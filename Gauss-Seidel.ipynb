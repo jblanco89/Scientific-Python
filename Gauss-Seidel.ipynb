{
 "cells": [
  {
   "cell_type": "markdown",
   "metadata": {},
   "source": [
    "# Gauss Seidel aplicado a la Ingeniería de Reactores"
   ]
  },
  {
   "cell_type": "markdown",
   "metadata": {},
   "source": [
    "## Problema de Balance en Reactores consecutivos"
   ]
  },
  {
   "cell_type": "markdown",
   "metadata": {},
   "source": [
    "Una reacción qúimica tiene lugar en cuatro reactores CSTR en serie cuya reacción química se muestra a continuación:"
   ]
  },
  {
   "cell_type": "markdown",
   "metadata": {},
   "source": [
    " ### A ===ki====> B"
   ]
  },
  {
   "cell_type": "markdown",
   "metadata": {},
   "source": [
    "Las condiciones operativas de cada reacator se muestran en el archivo llamado \"Condiciones.csv\" que se muestra debajo:"
   ]
  },
  {
   "cell_type": "code",
   "execution_count": 1,
   "metadata": {},
   "outputs": [
    {
     "name": "stdout",
     "output_type": "stream",
     "text": [
      "Reactor;Volumen, Vi (L);Rate ki (h^-1)\n",
      "1;1000;0,1\n",
      "2;1500;0,2\n",
      "3;100;0,4\n",
      "4;500;0,3\n"
     ]
    }
   ],
   "source": [
    "! type Condiciones.csv"
   ]
  },
  {
   "cell_type": "markdown",
   "metadata": {},
   "source": [
    "Algunas consideraciones importantes son:"
   ]
  },
  {
   "cell_type": "markdown",
   "metadata": {},
   "source": [
    "1. El sistema está en estado estacionario\n",
    "2. Las reacciones están en estado líquido\n",
    "3. No hay cambio en el volumen o densidad de lo líquidos presentes\n",
    "4. La tasa de consumo del componente A en cada reactor viene dada por la siguiente ecuación:"
   ]
  },
  {
   "cell_type": "markdown",
   "metadata": {},
   "source": [
    "$(-r_{A}) = kC_{A}$"
   ]
  },
  {
   "cell_type": "markdown",
   "metadata": {},
   "source": [
    "El arreglo de los rreactores se muestra en la siguiente figura:"
   ]
  },
  {
   "cell_type": "markdown",
   "metadata": {},
   "source": [
    "<img src=\"arregloCSTR.png\">"
   ]
  },
  {
   "cell_type": "markdown",
   "metadata": {},
   "source": [
    "Se pide: \n",
    "- Usar el método de Gauss-Seidel para determinar la concentración de salida de cada reactor: \n",
    "CA1, CA2, CA3 y CA4"
   ]
  },
  {
   "cell_type": "markdown",
   "metadata": {},
   "source": [
    "## Solución"
   ]
  },
  {
   "cell_type": "markdown",
   "metadata": {},
   "source": [
    "Tomando en cuenta las consideraciones del proceso y las condiciones de opetación se tienen las siguientes ecuaciones de balance de materia:"
   ]
  },
  {
   "cell_type": "markdown",
   "metadata": {},
   "source": [
    "Reactor 1:\n",
    "$q_{A0}C_{A0} = q_{A0}C_{A1} + k_{1}C_{A1}V_{1}$"
   ]
  },
  {
   "cell_type": "markdown",
   "metadata": {},
   "source": [
    "Reactor 2:\n",
    "$q_{A0}C_{A1} + q_{A3}C_{A3} = (q_{A0} + q_{A3})C_{A2} + K_{2}C_{A2}V_{2}$"
   ]
  },
  {
   "cell_type": "markdown",
   "metadata": {},
   "source": [
    "Reactor 3:\n",
    "$(q_{A0} + q_{A3})C_{A2} + q_{A4}C_{A4} = (q_{A0} + q_{A3} + q_{A4})C_{A3} + k_{3}V_{3}C_{A3}$"
   ]
  },
  {
   "cell_type": "markdown",
   "metadata": {},
   "source": [
    "Reactor 4:\n",
    "$q_{A0} + q_{A4})C_{A3} = (q_{A0} + q_{A4})C_{A4} + k_{4}V_{4}C_{A4}$"
   ]
  },
  {
   "cell_type": "markdown",
   "metadata": {},
   "source": [
    "Los valores de q correspondientes serán:"
   ]
  },
  {
   "cell_type": "markdown",
   "metadata": {},
   "source": [
    "$q_{A0} = 1000 L/h $\n"
   ]
  },
  {
   "cell_type": "markdown",
   "metadata": {},
   "source": [
    "$q_{A3} = 100 L/h $ "
   ]
  },
  {
   "cell_type": "markdown",
   "metadata": {},
   "source": [
    "$q_{A4} = 100 L/h $"
   ]
  },
  {
   "cell_type": "markdown",
   "metadata": {},
   "source": [
    "$C_{A0} = 1 mol/L $ "
   ]
  },
  {
   "cell_type": "markdown",
   "metadata": {},
   "source": [
    "Sustituyendo en los balances nos queda:"
   ]
  },
  {
   "cell_type": "markdown",
   "metadata": {},
   "source": [
    "$1100C_{A1} =      1000$"
   ]
  },
  {
   "cell_type": "markdown",
   "metadata": {},
   "source": [
    "$1000C_{A1} + 100C_{A3} = 1100C_{A2} + (0.2)C_{A2}(1500)$"
   ]
  },
  {
   "cell_type": "markdown",
   "metadata": {},
   "source": [
    "$1100C_{A2} + 100C_{A4} = 1200C_{A3} + (0.4)C_{A3}(100) $"
   ]
  },
  {
   "cell_type": "markdown",
   "metadata": {},
   "source": [
    "$1100C_{A3} = 1100C_{A4} + (0.3)C_{A3}(500)$"
   ]
  },
  {
   "cell_type": "markdown",
   "metadata": {},
   "source": [
    "De lo anterior se desprende un sistema de ecuaciones lineales y por tanto usaremos el método de Gauss-Seidel para su resolución"
   ]
  },
  {
   "cell_type": "code",
   "execution_count": 2,
   "metadata": {},
   "outputs": [],
   "source": [
    "import numpy as np\n",
    "\n",
    "iteration_limit = 10000\n"
   ]
  },
  {
   "cell_type": "code",
   "execution_count": 3,
   "metadata": {},
   "outputs": [],
   "source": [
    "#Matrix initialization\n",
    "\n",
    "#Coefficients imputs\n",
    "A = np.array ([[1100,0,0,0],[1000,-1400,100,0],\n",
    "             [0,1100,-1240,100],[0,0,1100,-1250]])"
   ]
  },
  {
   "cell_type": "code",
   "execution_count": 4,
   "metadata": {},
   "outputs": [],
   "source": [
    "#Zeros vector\n",
    "b = np.array([1000,0,0,0])"
   ]
  },
  {
   "cell_type": "code",
   "execution_count": 6,
   "metadata": {},
   "outputs": [
    {
     "name": "stdout",
     "output_type": "stream",
     "text": [
      "Solucion del sistema de Ecuaciones:\n",
      "[1100*CA1 +   0*CA2 +   0*CA3 +   0*CA4] = [1000]\n",
      "[1000*CA1 + -1400*CA2 + 100*CA3 +   0*CA4] = [  0]\n",
      "[  0*CA1 + 1100*CA2 + -1240*CA3 + 100*CA4] = [  0]\n",
      "[  0*CA1 +   0*CA2 + 1100*CA3 + -1250*CA4] = [  0]\n"
     ]
    }
   ],
   "source": [
    "print (\"Solucion del sistema de Ecuaciones:\")\n",
    "for i in range (A.shape[0]):\n",
    "    row = [\"{0:3g}*CA{1}\".format(A[i,j], j+1) for j in \n",
    "          range(A.shape[1])]\n",
    "    print(\"[{0}] = [{1:3g}]\".format(\" + \".join(row),b[i]))\n",
    "\n"
   ]
  },
  {
   "cell_type": "code",
   "execution_count": 7,
   "metadata": {},
   "outputs": [
    {
     "name": "stdout",
     "output_type": "stream",
     "text": [
      "Iteración 1:[0.1 0.1 0.1 0.1]\n",
      "Iteración 2:[0.90909091 0.65649351 0.59043779 0.51958525]\n",
      "Iteración 3:[0.90909091 0.69152478 0.65535144 0.57670926]\n",
      "Iteración 4:[0.90909091 0.69616147 0.6640714  0.58438283]\n",
      "Iteración 5:[0.90909091 0.69678432 0.66524277 0.58541364]\n",
      "Iteración 6:[0.90909091 0.69686799 0.66540012 0.58555211]\n",
      "Iteración 7:[0.90909091 0.69687923 0.66542126 0.58557071]\n",
      "Iteración 8:[0.90909091 0.69688074 0.6654241  0.58557321]\n",
      "Iteración 9:[0.90909091 0.69688094 0.66542448 0.58557354]\n",
      "Iteración 10:[0.90909091 0.69688097 0.66542453 0.58557359]\n"
     ]
    }
   ],
   "source": [
    "CA = np.array([0.1,0.1,0.1,0.1]) # you must add initial values\n",
    "for it_count in range (1,iteration_limit):\n",
    "    x_new =np.zeros_like(CA)\n",
    "    print(\"Iteración {0}:{1}\".format(it_count,CA))\n",
    "    for i in range(A.shape[0]):\n",
    "        s1= np.dot(A[i,:i], x_new[:i])\n",
    "        s2 = np.dot(A[i, i + 1:], CA[i+1:])\n",
    "        x_new[i] = (b[i] - s1 - s2) / A[i,i]\n",
    "    if np.allclose(CA,x_new,rtol=1e-15):\n",
    "        break\n",
    "    CA = x_new\n",
    "    \n",
    "    "
   ]
  },
  {
   "cell_type": "code",
   "execution_count": 8,
   "metadata": {},
   "outputs": [
    {
     "name": "stdout",
     "output_type": "stream",
     "text": [
      "La solución es:[0.90909091 0.69688097 0.66542453 0.58557359]\n",
      "Error: [0.00000000e+00 5.12374828e-06 4.50889852e-06 1.13686838e-13]\n"
     ]
    }
   ],
   "source": [
    "print(\"La solución es:{0}\".format(CA))\n",
    "error = np.dot(A,CA) - b\n",
    "print(\"Error: {0}\".format(error))"
   ]
  },
  {
   "cell_type": "code",
   "execution_count": null,
   "metadata": {},
   "outputs": [],
   "source": []
  }
 ],
 "metadata": {
  "kernelspec": {
   "display_name": "Python 3",
   "language": "python",
   "name": "python3"
  },
  "language_info": {
   "codemirror_mode": {
    "name": "ipython",
    "version": 3
   },
   "file_extension": ".py",
   "mimetype": "text/x-python",
   "name": "python",
   "nbconvert_exporter": "python",
   "pygments_lexer": "ipython3",
   "version": "3.7.4"
  }
 },
 "nbformat": 4,
 "nbformat_minor": 4
}
